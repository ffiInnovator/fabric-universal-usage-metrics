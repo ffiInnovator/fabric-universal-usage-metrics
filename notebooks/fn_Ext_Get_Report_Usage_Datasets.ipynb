{
 "cells": [
  {
   "cell_type": "markdown",
   "id": "a3f9a26c-41cc-4b72-a3af-b7ab0a82c453",
   "metadata": {
    "nteract": {
     "transient": {
      "deleting": false
     }
    }
   },
   "source": [
    "#### Report Usage Datasets \n",
    "\n",
    "##### Data ingestion strategy:\n",
    "<mark style=\"background: #88D5FF;\">**N/A**</mark>\n",
    "\n",
    "##### Related pipeline:\n",
    "\n",
    "**Ext_Load_PBI_Report_Usage_E2E**\n",
    "\n",
    "##### Source:\n",
    "\n",
    "**Table** from FUAM_Ext_Lakehouse table **gold_table_name** variable\n",
    "\n",
    "##### Target:\n",
    "\n",
    "**1 Data pipeline** in related_pipeline \n",
    "- **odata_response_json** variable value returned by notebook"
   ]
  },
  {
   "cell_type": "code",
   "execution_count": 1,
   "id": "07036bd2-4d58-42d5-b2c7-464373b57fa8",
   "metadata": {
    "microsoft": {
     "language": "python",
     "language_group": "synapse_pyspark"
    }
   },
   "outputs": [
    {
     "data": {
      "application/vnd.livy.statement-meta+json": {
       "execution_finish_time": "2025-04-19T15:34:27.1121676Z",
       "execution_start_time": "2025-04-19T15:34:26.730997Z",
       "livy_statement_state": "available",
       "normalized_state": "finished",
       "parent_msg_id": "e9507a15-6cb5-4bbe-b40e-e1c0528360a0",
       "queued_time": "2025-04-19T15:34:14.9619028Z",
       "session_id": "21cab598-3261-4c79-b5a7-a3adf230523b",
       "session_start_time": "2025-04-19T15:34:14.9628336Z",
       "spark_pool": null,
       "state": "finished",
       "statement_id": 3,
       "statement_ids": [
        3
       ]
      },
      "text/plain": [
       "StatementMeta(, 21cab598-3261-4c79-b5a7-a3adf230523b, 3, Finished, Available, Finished)"
      ]
     },
     "metadata": {},
     "output_type": "display_data"
    },
    {
     "name": "stdout",
     "output_type": "stream",
     "text": [
      "Successfully imported all packages for this notebook.\n"
     ]
    }
   ],
   "source": [
    "import json\n",
    "from pyspark.sql import SparkSession\n",
    "from notebookutils import mssparkutils # type: ignore\n",
    "\n",
    "print(\"Successfully imported all packages for this notebook.\")"
   ]
  },
  {
   "cell_type": "code",
   "execution_count": 2,
   "id": "45921d64-455f-417b-9ea6-0103fcc3ab52",
   "metadata": {
    "microsoft": {
     "language": "python",
     "language_group": "synapse_pyspark"
    }
   },
   "outputs": [
    {
     "data": {
      "application/vnd.livy.statement-meta+json": {
       "execution_finish_time": "2025-04-19T15:34:29.5775999Z",
       "execution_start_time": "2025-04-19T15:34:29.3098192Z",
       "livy_statement_state": "available",
       "normalized_state": "finished",
       "parent_msg_id": "73588e8b-3fdc-416d-92a7-8a6e6dd79c4c",
       "queued_time": "2025-04-19T15:34:29.3086162Z",
       "session_id": "21cab598-3261-4c79-b5a7-a3adf230523b",
       "session_start_time": null,
       "spark_pool": null,
       "state": "finished",
       "statement_id": 4,
       "statement_ids": [
        4
       ]
      },
      "text/plain": [
       "StatementMeta(, 21cab598-3261-4c79-b5a7-a3adf230523b, 4, Finished, Available, Finished)"
      ]
     },
     "metadata": {},
     "output_type": "display_data"
    },
    {
     "name": "stdout",
     "output_type": "stream",
     "text": [
      "Spark session GetReportUsageDatasets has been created successfully.\n"
     ]
    }
   ],
   "source": [
    "#\n",
    "# Create the Spark session\n",
    "#\n",
    "app_name = \"GetReportUsageDatasets\"\n",
    "\n",
    "# Get the current Spark session\n",
    "spark = SparkSession.builder \\\n",
    "    .appName(app_name) \\\n",
    "    .getOrCreate()\n",
    "\n",
    "print(f\"Spark session {app_name} has been created successfully.\")"
   ]
  },
  {
   "cell_type": "code",
   "execution_count": 3,
   "id": "c6b1b2d1-d106-4d47-927e-e1f864194584",
   "metadata": {
    "microsoft": {
     "language": "python",
     "language_group": "synapse_pyspark"
    }
   },
   "outputs": [
    {
     "data": {
      "application/vnd.livy.statement-meta+json": {
       "execution_finish_time": "2025-04-19T15:34:33.7445438Z",
       "execution_start_time": "2025-04-19T15:34:33.4577899Z",
       "livy_statement_state": "available",
       "normalized_state": "finished",
       "parent_msg_id": "2fb2f5e6-fb7f-472b-8490-c9e42d83f1cb",
       "queued_time": "2025-04-19T15:34:33.4566239Z",
       "session_id": "21cab598-3261-4c79-b5a7-a3adf230523b",
       "session_start_time": null,
       "spark_pool": null,
       "state": "finished",
       "statement_id": 5,
       "statement_ids": [
        5
       ]
      },
      "text/plain": [
       "StatementMeta(, 21cab598-3261-4c79-b5a7-a3adf230523b, 5, Finished, Available, Finished)"
      ]
     },
     "metadata": {},
     "output_type": "display_data"
    },
    {
     "name": "stdout",
     "output_type": "stream",
     "text": [
      "Successfully configured all paramaters for this run.\n"
     ]
    }
   ],
   "source": [
    "## Parameters\n",
    "display_data = True\n",
    "\n",
    "## Variables\n",
    "gold_table_name = \"workspace_datasets\"\n",
    "\n",
    "print(\"Successfully configured all paramaters for this run.\")"
   ]
  },
  {
   "cell_type": "code",
   "execution_count": 4,
   "id": "60801cc8-2ee7-4553-a2d0-a66d1a71be41",
   "metadata": {
    "microsoft": {
     "language": "python",
     "language_group": "synapse_pyspark"
    }
   },
   "outputs": [
    {
     "data": {
      "application/vnd.livy.statement-meta+json": {
       "execution_finish_time": "2025-04-19T15:34:54.9320447Z",
       "execution_start_time": "2025-04-19T15:34:36.8552005Z",
       "livy_statement_state": "available",
       "normalized_state": "finished",
       "parent_msg_id": "3123f045-290e-4a8b-bafa-96931d354c68",
       "queued_time": "2025-04-19T15:34:36.8540585Z",
       "session_id": "21cab598-3261-4c79-b5a7-a3adf230523b",
       "session_start_time": null,
       "spark_pool": null,
       "state": "finished",
       "statement_id": 6,
       "statement_ids": [
        6
       ]
      },
      "text/plain": [
       "StatementMeta(, 21cab598-3261-4c79-b5a7-a3adf230523b, 6, Finished, Available, Finished)"
      ]
     },
     "metadata": {},
     "output_type": "display_data"
    },
    {
     "name": "stdout",
     "output_type": "stream",
     "text": [
      "Gold layer table workspace_datasets has been read and filtered successfully.\n"
     ]
    }
   ],
   "source": [
    "# Read from the Lakehouse table\n",
    "df = spark.read.table(gold_table_name)\n",
    "\n",
    "# Filter by DatasetName\n",
    "# filtered_df = df.filter(df[\"DatasetName\"] == \"Report Usage Metrics Model\") # Old usage report format\n",
    "filtered_df = df.filter(df[\"DatasetName\"] == \"Usage Metrics Report\") # New usage report format\n",
    "\n",
    "# Select only needed columns\n",
    "selected_df = filtered_df.select(\"WorkspaceId\", \"DatasetId\")\n",
    "\n",
    "print(f\"Gold layer table {gold_table_name} has been read and filtered successfully.\")"
   ]
  },
  {
   "cell_type": "code",
   "execution_count": 5,
   "id": "f14cfbd3-73ba-41aa-80fa-a4e156f03dbe",
   "metadata": {
    "collapsed": false,
    "microsoft": {
     "language": "python",
     "language_group": "synapse_pyspark"
    }
   },
   "outputs": [
    {
     "data": {
      "application/vnd.livy.statement-meta+json": {
       "execution_finish_time": "2025-04-19T15:35:06.5938434Z",
       "execution_start_time": "2025-04-19T15:34:58.8340704Z",
       "livy_statement_state": "available",
       "normalized_state": "finished",
       "parent_msg_id": "5c8583c8-454e-4eae-8b9d-c74bc7ddb098",
       "queued_time": "2025-04-19T15:34:58.8329513Z",
       "session_id": "21cab598-3261-4c79-b5a7-a3adf230523b",
       "session_start_time": null,
       "spark_pool": null,
       "state": "finished",
       "statement_id": 7,
       "statement_ids": [
        7
       ]
      },
      "text/plain": [
       "StatementMeta(, 21cab598-3261-4c79-b5a7-a3adf230523b, 7, Finished, Available, Finished)"
      ]
     },
     "metadata": {},
     "output_type": "display_data"
    },
    {
     "data": {
      "application/vnd.synapse.widget-view+json": {
       "widget_id": "69e40266-3139-4dd8-97a9-49c39d417f9b",
       "widget_type": "Synapse.DataFrame"
      },
      "text/plain": [
       "SynapseWidget(Synapse.DataFrame, 69e40266-3139-4dd8-97a9-49c39d417f9b)"
      ]
     },
     "metadata": {},
     "output_type": "display_data"
    }
   ],
   "source": [
    "if display_data:\n",
    "    display(selected_df)"
   ]
  },
  {
   "cell_type": "code",
   "execution_count": 6,
   "id": "5552beab-13bb-40bd-81d9-7ba6af16d5fa",
   "metadata": {
    "microsoft": {
     "language": "python",
     "language_group": "synapse_pyspark"
    }
   },
   "outputs": [
    {
     "data": {
      "application/vnd.livy.statement-meta+json": {
       "execution_finish_time": "2025-04-19T15:35:09.4135143Z",
       "execution_start_time": "2025-04-19T15:35:08.0081123Z",
       "livy_statement_state": "available",
       "normalized_state": "finished",
       "parent_msg_id": "11c9d83e-cfca-4116-849b-00ecc3368226",
       "queued_time": "2025-04-19T15:35:08.0069536Z",
       "session_id": "21cab598-3261-4c79-b5a7-a3adf230523b",
       "session_start_time": null,
       "spark_pool": null,
       "state": "finished",
       "statement_id": 8,
       "statement_ids": [
        8
       ]
      },
      "text/plain": [
       "StatementMeta(, 21cab598-3261-4c79-b5a7-a3adf230523b, 8, Finished, Available, Finished)"
      ]
     },
     "metadata": {},
     "output_type": "display_data"
    },
    {
     "name": "stdout",
     "output_type": "stream",
     "text": [
      "{\"@odata.context\": \"https://wabi-us-east2-d-primary-redirect.analysis.windows.net/v1.0/myorg/admin/$metadata#groups\", \"@odata.count\": 4, \"value\": [{\"WorkspaceId\": \"43DA5FAA-1C21-4314-BD0A-C15AE4887314\", \"DatasetId\": \"0270E8BE-EA7A-47DC-B698-6FD6A8D1A372\"}, {\"WorkspaceId\": \"3012B677-8AE6-499E-9273-150DF5D9D8D2\", \"DatasetId\": \"28678A20-198B-4FA5-8CB2-D211F273AF85\"}, {\"WorkspaceId\": \"3AC7CE42-AE74-4E7D-8AC3-5CE8358A30DF\", \"DatasetId\": \"A4C91678-F53C-479B-B3D2-BF573EF36660\"}, {\"WorkspaceId\": \"08D4AB9A-6333-461F-85D4-BA3F7A7330F6\", \"DatasetId\": \"F82EA03D-E70E-4675-82FB-83F256673C03\"}]}\n"
     ]
    }
   ],
   "source": [
    "# Collect the values to a list of dicts\n",
    "results = selected_df.rdd.map(lambda row: {\"WorkspaceId\": row[\"WorkspaceId\"], \"DatasetId\": row[\"DatasetId\"]}).collect()\n",
    "\n",
    "# Wrap the results in the desired format\n",
    "odata_response = {\n",
    "    \"@odata.context\": \"https://wabi-us-east2-d-primary-redirect.analysis.windows.net/v1.0/myorg/admin/$metadata#groups\",\n",
    "    \"@odata.count\": len(results),\n",
    "    \"value\": results\n",
    "}\n",
    "\n",
    "# Convert the response to a JSON string\n",
    "odata_response_json = json.dumps(odata_response)\n",
    "if display_data:\n",
    "   print(odata_response_json)"
   ]
  },
  {
   "cell_type": "code",
   "execution_count": 7,
   "id": "1128e9eb-0d0f-492f-a24b-b1e9d816e5fe",
   "metadata": {
    "microsoft": {
     "language": "python",
     "language_group": "synapse_pyspark"
    }
   },
   "outputs": [
    {
     "data": {
      "application/vnd.livy.statement-meta+json": {
       "execution_finish_time": "2025-04-19T15:35:16.2795993Z",
       "execution_start_time": "2025-04-19T15:35:16.0275186Z",
       "livy_statement_state": "available",
       "normalized_state": "finished",
       "parent_msg_id": "e3cbabcc-0911-4f92-ab8d-82dd6e792268",
       "queued_time": "2025-04-19T15:35:16.0263689Z",
       "session_id": "21cab598-3261-4c79-b5a7-a3adf230523b",
       "session_start_time": null,
       "spark_pool": null,
       "state": "finished",
       "statement_id": 9,
       "statement_ids": [
        9
       ]
      },
      "text/plain": [
       "StatementMeta(, 21cab598-3261-4c79-b5a7-a3adf230523b, 9, Finished, Available, Finished)"
      ]
     },
     "metadata": {},
     "output_type": "display_data"
    },
    {
     "data": {
      "text/plain": [
       "str"
      ]
     },
     "execution_count": 26,
     "metadata": {},
     "output_type": "execute_result"
    }
   ],
   "source": [
    "type(odata_response_json)"
   ]
  },
  {
   "cell_type": "code",
   "execution_count": 8,
   "id": "93b4a144-f132-4839-b31d-183ff5a851d4",
   "metadata": {
    "microsoft": {
     "language": "python",
     "language_group": "synapse_pyspark"
    }
   },
   "outputs": [
    {
     "data": {
      "application/vnd.livy.statement-meta+json": {
       "execution_finish_time": "2025-04-19T15:35:20.203658Z",
       "execution_start_time": "2025-04-19T15:35:18.7377431Z",
       "livy_statement_state": "available",
       "normalized_state": "finished",
       "parent_msg_id": "259e90c4-af27-4491-a738-59c120585e63",
       "queued_time": "2025-04-19T15:35:18.7366118Z",
       "session_id": "21cab598-3261-4c79-b5a7-a3adf230523b",
       "session_start_time": null,
       "spark_pool": null,
       "state": "finished",
       "statement_id": 10,
       "statement_ids": [
        10
       ]
      },
      "text/plain": [
       "StatementMeta(, 21cab598-3261-4c79-b5a7-a3adf230523b, 10, Finished, Available, Finished)"
      ]
     },
     "metadata": {},
     "output_type": "display_data"
    },
    {
     "name": "stdout",
     "output_type": "stream",
     "text": [
      "Successfully created the result JSON which will be returned to the pipeline.\n",
      "ExitValue: {\"@odata.context\": \"https://wabi-us-east2-d-primary-redirect.analysis.windows.net/v1.0/myorg/admin/$metadata#groups\", \"@odata.count\": 4, \"value\": [{\"WorkspaceId\": \"43DA5FAA-1C21-4314-BD0A-C15AE4887314\", \"DatasetId\": \"0270E8BE-EA7A-47DC-B698-6FD6A8D1A372\"}, {\"WorkspaceId\": \"3012B677-8AE6-499E-9273-150DF5D9D8D2\", \"DatasetId\": \"28678A20-198B-4FA5-8CB2-D211F273AF85\"}, {\"WorkspaceId\": \"3AC7CE42-AE74-4E7D-8AC3-5CE8358A30DF\", \"DatasetId\": \"A4C91678-F53C-479B-B3D2-BF573EF36660\"}, {\"WorkspaceId\": \"08D4AB9A-6333-461F-85D4-BA3F7A7330F6\", \"DatasetId\": \"F82EA03D-E70E-4675-82FB-83F256673C03\"}]}"
     ]
    }
   ],
   "source": [
    "print(\"Successfully created the result JSON which will be returned to the pipeline.\")\n",
    "\n",
    "# Send result to pipeline variable\n",
    "mssparkutils.notebook.exit(odata_response_json)"
   ]
  }
 ],
 "metadata": {
  "dependencies": {
   "lakehouse": {
    "default_lakehouse": "a2655017-a58a-416b-b08c-c9fbbf6a8ac7",
    "default_lakehouse_name": "FUAM_Ext_Lakehouse",
    "default_lakehouse_workspace_id": "572c83e2-ec60-4579-9648-10234b4a30d1",
    "known_lakehouses": [
     {
      "id": "a2655017-a58a-416b-b08c-c9fbbf6a8ac7"
     }
    ]
   }
  },
  "kernel_info": {
   "name": "synapse_pyspark"
  },
  "kernelspec": {
   "display_name": "Python 3",
   "language": "python",
   "name": "python3"
  },
  "language_info": {
   "name": "python",
   "version": "3.12.4"
  },
  "microsoft": {
   "language": "python",
   "language_group": "synapse_pyspark",
   "ms_spell_check": {
    "ms_spell_check_language": "en"
   }
  },
  "nteract": {
   "version": "nteract-front-end@1.0.0"
  },
  "spark_compute": {
   "compute_id": "/trident/default",
   "session_options": {
    "conf": {
     "spark.synapse.nbs.session.timeout": "1200000"
    }
   }
  },
  "synapse_widget": {
   "state": {
    "69e40266-3139-4dd8-97a9-49c39d417f9b": {
     "persist_state": {
      "view": {
       "chartOptions": {
        "aggregationType": "count",
        "binsNumber": 10,
        "categoryFieldKeys": [
         "0"
        ],
        "chartType": "bar",
        "evaluatesOverAllRecords": false,
        "isStacked": false,
        "seriesFieldKeys": [
         "0"
        ],
        "wordFrequency": "-1"
       },
       "tableOptions": {},
       "type": "details",
       "viewOptionsGroup": [
        {
         "tabItems": [
          {
           "key": "0",
           "name": "Table",
           "options": {},
           "type": "table"
          }
         ]
        }
       ]
      }
     },
     "sync_state": {
      "isSummary": false,
      "language": "scala",
      "table": {
       "rows": [
        {
         "0": "43DA5FAA-1C21-4314-BD0A-C15AE4887314",
         "1": "0270E8BE-EA7A-47DC-B698-6FD6A8D1A372"
        },
        {
         "0": "3012B677-8AE6-499E-9273-150DF5D9D8D2",
         "1": "28678A20-198B-4FA5-8CB2-D211F273AF85"
        },
        {
         "0": "3AC7CE42-AE74-4E7D-8AC3-5CE8358A30DF",
         "1": "A4C91678-F53C-479B-B3D2-BF573EF36660"
        },
        {
         "0": "08D4AB9A-6333-461F-85D4-BA3F7A7330F6",
         "1": "F82EA03D-E70E-4675-82FB-83F256673C03"
        }
       ],
       "schema": [
        {
         "key": "0",
         "name": "WorkspaceId",
         "type": "string"
        },
        {
         "key": "1",
         "name": "DatasetId",
         "type": "string"
        }
       ],
       "truncated": false
      },
      "wranglerEntryContext": {
       "candidateVariableNames": [
        "selected_df"
       ],
       "dataframeType": "pyspark"
      }
     },
     "type": "Synapse.DataFrame"
    }
   },
   "version": "0.1"
  }
 },
 "nbformat": 4,
 "nbformat_minor": 5
}
